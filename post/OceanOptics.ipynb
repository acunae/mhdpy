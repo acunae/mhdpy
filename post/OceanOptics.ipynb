{
 "cells": [
  {
   "cell_type": "code",
   "execution_count": 34,
   "metadata": {},
   "outputs": [],
   "source": [
    "from __future__ import unicode_literals\n",
    "from _tools import _cut_channel, _cut_datetime_channel, _get_indextime\n",
    "from nptdms import TdmsFile as TF\n",
    "from nptdms import TdmsWriter, RootObject\n",
    "import os\n",
    "import datetime as dt\n",
    "\n",
    "def multiplex_spectra(fileinpaths, mpchannel, **kwargs):\n",
    "    \"\"\"\n",
    "    Seperates the spectra into 'on' and  'off' channels, on being where the multiplexer is reading that spectrometer.\n",
    "    \n",
    "    If the MP channel is not the spectrometer's channel, it will not use that data\n",
    "    \n",
    "    \"\"\"\n",
    "\n",
    "def cut_log_spectra(fileinpaths, times, fileoutpaths_list, **kwargs):\n",
    "    for i, fileinpath in enumerate(fileinpaths):\n",
    "        fileoutpaths = fileoutpaths_list[i]\n",
    "        tdmsfile = TF(fileinpath)\n",
    "        for j, t in enumerate(times):\n",
    "            fileoutpath = fileoutpaths[j]\n",
    "            \n",
    "            direc = os.path.split(fileoutpath)[0]\n",
    "            if not os.path.exists(direc):\n",
    "                os.makedirs(direc)\n",
    "            \n",
    "            root_object = RootObject(properties = {})\n",
    "            \n",
    "            try:\n",
    "                with TdmsWriter(fileoutpath, mode='w') as tdmswriter:\n",
    "                    for group in tdmsfile.groups().remove('Global'):\n",
    "                        idx1, idx2 = _get_indextime(timedate, t[0], t[1])\n",
    "                        for channel in file.group_channels(group)[idx1, idx2]:\n",
    "                            tdms_writer.write_segment([root_object, channel])\n",
    "                    for channel in tdmsfile.group_channels('Global'):\n",
    "                        if channel.channel == 'Wavelength':\n",
    "                            channel_object = channel\n",
    "                        else:\n",
    "                            channel_object = _cut_channel(channel,time[0],time[1],timedata=None)\n",
    "                        tdms_writer.write_segment([\n",
    "                            root_object,\n",
    "                            channel_object\n",
    "                        ])\n",
    "            except ValueError as error:\n",
    "                print(error)\n",
    "                print('removing the file at: \\n', fileoutpath)\n",
    "                os.remove(fileoutpath)\n",
    "        \n"
   ]
  },
  {
   "cell_type": "code",
   "execution_count": 14,
   "metadata": {},
   "outputs": [],
   "source": [
    "import numpy as np"
   ]
  },
  {
   "cell_type": "code",
   "execution_count": 6,
   "metadata": {},
   "outputs": [],
   "source": [
    "file = TF('Z:\\\\Data\\\\Raw Data\\\\2018-11-20\\\\Logfiles\\\\Flame\\\\Log_Flame_0.tdms')"
   ]
  },
  {
   "cell_type": "code",
   "execution_count": 27,
   "metadata": {},
   "outputs": [],
   "source": [
    "t1 = file.object('Global', 'Time').data[100]\n",
    "t2 = file.object('Global', 'Time').data[600]"
   ]
  },
  {
   "cell_type": "code",
   "execution_count": 28,
   "metadata": {},
   "outputs": [],
   "source": [
    "pin = 'Z:\\\\Data\\\\Raw Data\\\\2018-11-20\\\\Logfiles\\\\Flame\\\\Log_Flame_0.tdms'\n",
    "pout = 'Cut_0_Log_Flame_0'"
   ]
  },
  {
   "cell_type": "code",
   "execution_count": 29,
   "metadata": {},
   "outputs": [
    {
     "ename": "FileNotFoundError",
     "evalue": "[WinError 3] The system cannot find the path specified: ''",
     "output_type": "error",
     "traceback": [
      "\u001b[1;31m---------------------------------------------------------------------------\u001b[0m",
      "\u001b[1;31mFileNotFoundError\u001b[0m                         Traceback (most recent call last)",
      "\u001b[1;32m<ipython-input-29-fe8018701336>\u001b[0m in \u001b[0;36m<module>\u001b[1;34m()\u001b[0m\n\u001b[1;32m----> 1\u001b[1;33m \u001b[0mcut_log_spectra\u001b[0m\u001b[1;33m(\u001b[0m\u001b[1;33m[\u001b[0m\u001b[0mpin\u001b[0m\u001b[1;33m]\u001b[0m\u001b[1;33m,\u001b[0m\u001b[1;33m[\u001b[0m\u001b[1;33m(\u001b[0m\u001b[0mt1\u001b[0m\u001b[1;33m,\u001b[0m\u001b[0mt2\u001b[0m\u001b[1;33m)\u001b[0m\u001b[1;33m]\u001b[0m\u001b[1;33m,\u001b[0m \u001b[1;33m[\u001b[0m\u001b[0mpout\u001b[0m\u001b[1;33m]\u001b[0m\u001b[1;33m)\u001b[0m\u001b[1;33m\u001b[0m\u001b[0m\n\u001b[0m",
      "\u001b[1;32m<ipython-input-13-7a42719a293a>\u001b[0m in \u001b[0;36mcut_log_spectra\u001b[1;34m(fileinpaths, times, fileoutpaths_list, **kwargs)\u001b[0m\n\u001b[0;32m     22\u001b[0m             \u001b[0mdirec\u001b[0m \u001b[1;33m=\u001b[0m \u001b[0mos\u001b[0m\u001b[1;33m.\u001b[0m\u001b[0mpath\u001b[0m\u001b[1;33m.\u001b[0m\u001b[0msplit\u001b[0m\u001b[1;33m(\u001b[0m\u001b[0mfileoutpath\u001b[0m\u001b[1;33m)\u001b[0m\u001b[1;33m[\u001b[0m\u001b[1;36m0\u001b[0m\u001b[1;33m]\u001b[0m\u001b[1;33m\u001b[0m\u001b[0m\n\u001b[0;32m     23\u001b[0m             \u001b[1;32mif\u001b[0m \u001b[1;32mnot\u001b[0m \u001b[0mos\u001b[0m\u001b[1;33m.\u001b[0m\u001b[0mpath\u001b[0m\u001b[1;33m.\u001b[0m\u001b[0mexists\u001b[0m\u001b[1;33m(\u001b[0m\u001b[0mdirec\u001b[0m\u001b[1;33m)\u001b[0m\u001b[1;33m:\u001b[0m\u001b[1;33m\u001b[0m\u001b[0m\n\u001b[1;32m---> 24\u001b[1;33m                 \u001b[0mos\u001b[0m\u001b[1;33m.\u001b[0m\u001b[0mmakedirs\u001b[0m\u001b[1;33m(\u001b[0m\u001b[0mdirec\u001b[0m\u001b[1;33m)\u001b[0m\u001b[1;33m\u001b[0m\u001b[0m\n\u001b[0m\u001b[0;32m     25\u001b[0m \u001b[1;33m\u001b[0m\u001b[0m\n\u001b[0;32m     26\u001b[0m             \u001b[0mroot_object\u001b[0m \u001b[1;33m=\u001b[0m \u001b[0mRootObject\u001b[0m\u001b[1;33m(\u001b[0m\u001b[0mproperties\u001b[0m \u001b[1;33m=\u001b[0m \u001b[1;33m{\u001b[0m\u001b[1;33m}\u001b[0m\u001b[1;33m)\u001b[0m\u001b[1;33m\u001b[0m\u001b[0m\n",
      "\u001b[1;32m~\\AppData\\Local\\Continuum\\anaconda3\\lib\\os.py\u001b[0m in \u001b[0;36mmakedirs\u001b[1;34m(name, mode, exist_ok)\u001b[0m\n\u001b[0;32m    219\u001b[0m             \u001b[1;32mreturn\u001b[0m\u001b[1;33m\u001b[0m\u001b[0m\n\u001b[0;32m    220\u001b[0m     \u001b[1;32mtry\u001b[0m\u001b[1;33m:\u001b[0m\u001b[1;33m\u001b[0m\u001b[0m\n\u001b[1;32m--> 221\u001b[1;33m         \u001b[0mmkdir\u001b[0m\u001b[1;33m(\u001b[0m\u001b[0mname\u001b[0m\u001b[1;33m,\u001b[0m \u001b[0mmode\u001b[0m\u001b[1;33m)\u001b[0m\u001b[1;33m\u001b[0m\u001b[0m\n\u001b[0m\u001b[0;32m    222\u001b[0m     \u001b[1;32mexcept\u001b[0m \u001b[0mOSError\u001b[0m\u001b[1;33m:\u001b[0m\u001b[1;33m\u001b[0m\u001b[0m\n\u001b[0;32m    223\u001b[0m         \u001b[1;31m# Cannot rely on checking for EEXIST, since the operating system\u001b[0m\u001b[1;33m\u001b[0m\u001b[1;33m\u001b[0m\u001b[0m\n",
      "\u001b[1;31mFileNotFoundError\u001b[0m: [WinError 3] The system cannot find the path specified: ''"
     ]
    }
   ],
   "source": [
    "cut_log_spectra([pin],[(t1,t2)], [pout])"
   ]
  },
  {
   "cell_type": "code",
   "execution_count": 63,
   "metadata": {},
   "outputs": [],
   "source": [
    "time = file.group_channels('Global')[1]"
   ]
  },
  {
   "cell_type": "code",
   "execution_count": 68,
   "metadata": {},
   "outputs": [
    {
     "data": {
      "text/plain": [
       "<nptdms.writer.ChannelObject at 0xfde0320>"
      ]
     },
     "execution_count": 68,
     "metadata": {},
     "output_type": "execute_result"
    }
   ],
   "source": [
    "ChannelObject(time.group, time.channel, time.data[0:100])"
   ]
  },
  {
   "cell_type": "code",
   "execution_count": 71,
   "metadata": {},
   "outputs": [],
   "source": [
    "for i in range(0, 100):\n",
    "    if i<20 or i>80:\n",
    "        break\n",
    "    print(i)"
   ]
  },
  {
   "cell_type": "code",
   "execution_count": 58,
   "metadata": {},
   "outputs": [],
   "source": [
    "from nptdms import ChannelObject"
   ]
  },
  {
   "cell_type": "code",
   "execution_count": 59,
   "metadata": {},
   "outputs": [
    {
     "name": "stdout",
     "output_type": "stream",
     "text": [
      "Help on class ChannelObject in module nptdms.writer:\n",
      "\n",
      "class ChannelObject(TdmsObject)\n",
      " |  ChannelObject(group, channel, data, properties=None)\n",
      " |  \n",
      " |  A TDMS object for a channel with data\n",
      " |  \n",
      " |  Method resolution order:\n",
      " |      ChannelObject\n",
      " |      TdmsObject\n",
      " |      builtins.object\n",
      " |  \n",
      " |  Methods defined here:\n",
      " |  \n",
      " |  __init__(self, group, channel, data, properties=None)\n",
      " |      Initialise a new ChannelObject\n",
      " |      \n",
      " |      :param group: The name of the group this channel is in.\n",
      " |      :param channel: The name of this channel.\n",
      " |      :param data: 1-D Numpy array of data to be written.\n",
      " |      :param properties: A dictionary mapping property names to\n",
      " |          their value.\n",
      " |  \n",
      " |  ----------------------------------------------------------------------\n",
      " |  Data descriptors defined here:\n",
      " |  \n",
      " |  data_type\n",
      " |  \n",
      " |  has_data\n",
      " |  \n",
      " |  path\n",
      " |      The string representation of this channel's path\n",
      " |  \n",
      " |  ----------------------------------------------------------------------\n",
      " |  Data descriptors inherited from TdmsObject:\n",
      " |  \n",
      " |  __dict__\n",
      " |      dictionary for instance variables (if defined)\n",
      " |  \n",
      " |  __weakref__\n",
      " |      list of weak references to the object (if defined)\n",
      "\n"
     ]
    }
   ],
   "source": [
    "help(ChannelObject)"
   ]
  },
  {
   "cell_type": "code",
   "execution_count": 69,
   "metadata": {},
   "outputs": [
    {
     "data": {
      "text/plain": [
       "[<TdmsObject with path /'Vis_Raw'/'Acquisition_37'>,\n",
       " <TdmsObject with path /'Vis_Raw'/'Acquisition_38'>,\n",
       " <TdmsObject with path /'Vis_Raw'/'Acquisition_39'>,\n",
       " <TdmsObject with path /'Vis_Raw'/'Acquisition_40'>,\n",
       " <TdmsObject with path /'Vis_Raw'/'Acquisition_41'>,\n",
       " <TdmsObject with path /'Vis_Raw'/'Acquisition_42'>,\n",
       " <TdmsObject with path /'Vis_Raw'/'Acquisition_43'>,\n",
       " <TdmsObject with path /'Vis_Raw'/'Acquisition_44'>,\n",
       " <TdmsObject with path /'Vis_Raw'/'Acquisition_45'>,\n",
       " <TdmsObject with path /'Vis_Raw'/'Acquisition_46'>,\n",
       " <TdmsObject with path /'Vis_Raw'/'Acquisition_47'>,\n",
       " <TdmsObject with path /'Vis_Raw'/'Acquisition_48'>,\n",
       " <TdmsObject with path /'Vis_Raw'/'Acquisition_49'>,\n",
       " <TdmsObject with path /'Vis_Raw'/'Acquisition_50'>,\n",
       " <TdmsObject with path /'Vis_Raw'/'Acquisition_51'>,\n",
       " <TdmsObject with path /'Vis_Raw'/'Acquisition_52'>,\n",
       " <TdmsObject with path /'Vis_Raw'/'Acquisition_53'>,\n",
       " <TdmsObject with path /'Vis_Raw'/'Acquisition_54'>,\n",
       " <TdmsObject with path /'Vis_Raw'/'Acquisition_55'>,\n",
       " <TdmsObject with path /'Vis_Raw'/'Acquisition_56'>,\n",
       " <TdmsObject with path /'Vis_Raw'/'Acquisition_57'>,\n",
       " <TdmsObject with path /'Vis_Raw'/'Acquisition_58'>,\n",
       " <TdmsObject with path /'Vis_Raw'/'Acquisition_59'>,\n",
       " <TdmsObject with path /'Vis_Raw'/'Acquisition_60'>,\n",
       " <TdmsObject with path /'Vis_Raw'/'Acquisition_61'>,\n",
       " <TdmsObject with path /'Vis_Raw'/'Acquisition_62'>,\n",
       " <TdmsObject with path /'Vis_Raw'/'Acquisition_63'>,\n",
       " <TdmsObject with path /'Vis_Raw'/'Acquisition_64'>,\n",
       " <TdmsObject with path /'Vis_Raw'/'Acquisition_65'>,\n",
       " <TdmsObject with path /'Vis_Raw'/'Acquisition_66'>,\n",
       " <TdmsObject with path /'Vis_Raw'/'Acquisition_67'>,\n",
       " <TdmsObject with path /'Vis_Raw'/'Acquisition_68'>,\n",
       " <TdmsObject with path /'Vis_Raw'/'Acquisition_69'>,\n",
       " <TdmsObject with path /'Vis_Raw'/'Acquisition_70'>,\n",
       " <TdmsObject with path /'Vis_Raw'/'Acquisition_71'>,\n",
       " <TdmsObject with path /'Vis_Raw'/'Acquisition_72'>,\n",
       " <TdmsObject with path /'Vis_Raw'/'Acquisition_73'>,\n",
       " <TdmsObject with path /'Vis_Raw'/'Acquisition_74'>,\n",
       " <TdmsObject with path /'Vis_Raw'/'Acquisition_75'>,\n",
       " <TdmsObject with path /'Vis_Raw'/'Acquisition_76'>,\n",
       " <TdmsObject with path /'Vis_Raw'/'Acquisition_77'>,\n",
       " <TdmsObject with path /'Vis_Raw'/'Acquisition_78'>,\n",
       " <TdmsObject with path /'Vis_Raw'/'Acquisition_79'>,\n",
       " <TdmsObject with path /'Vis_Raw'/'Acquisition_80'>,\n",
       " <TdmsObject with path /'Vis_Raw'/'Acquisition_81'>,\n",
       " <TdmsObject with path /'Vis_Raw'/'Acquisition_82'>,\n",
       " <TdmsObject with path /'Vis_Raw'/'Acquisition_83'>,\n",
       " <TdmsObject with path /'Vis_Raw'/'Acquisition_84'>,\n",
       " <TdmsObject with path /'Vis_Raw'/'Acquisition_85'>,\n",
       " <TdmsObject with path /'Vis_Raw'/'Acquisition_86'>,\n",
       " <TdmsObject with path /'Vis_Raw'/'Acquisition_87'>,\n",
       " <TdmsObject with path /'Vis_Raw'/'Acquisition_88'>]"
      ]
     },
     "execution_count": 69,
     "metadata": {},
     "output_type": "execute_result"
    }
   ],
   "source": [
    "file.group_channels(file.groups()[1])[37:89]"
   ]
  },
  {
   "cell_type": "code",
   "execution_count": 64,
   "metadata": {},
   "outputs": [
    {
     "data": {
      "text/plain": [
       "[<TdmsObject with path /'Global'/'Wavelength'>,\n",
       " <TdmsObject with path /'Global'/'Time'>,\n",
       " <TdmsObject with path /'Global'/'MP Pos'>]"
      ]
     },
     "execution_count": 64,
     "metadata": {},
     "output_type": "execute_result"
    }
   ],
   "source": [
    "file.group_channels(group)"
   ]
  },
  {
   "cell_type": "code",
   "execution_count": null,
   "metadata": {},
   "outputs": [],
   "source": []
  }
 ],
 "metadata": {
  "kernelspec": {
   "display_name": "Python 3",
   "language": "python",
   "name": "python3"
  },
  "language_info": {
   "codemirror_mode": {
    "name": "ipython",
    "version": 3
   },
   "file_extension": ".py",
   "mimetype": "text/x-python",
   "name": "python",
   "nbconvert_exporter": "python",
   "pygments_lexer": "ipython3",
   "version": "3.7.0"
  }
 },
 "nbformat": 4,
 "nbformat_minor": 2
}
