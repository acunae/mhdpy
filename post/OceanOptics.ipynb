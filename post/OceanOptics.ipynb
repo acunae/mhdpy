{
 "cells": [
  {
   "cell_type": "code",
   "execution_count": 13,
   "metadata": {},
   "outputs": [],
   "source": [
    "from __future__ import unicode_literals\n",
    "from _tools import _cut_channel, _cut_datetime_channel\n",
    "from nptdms import TdmsFile as TF\n",
    "from nptdms import TdmsWriter, RootObject\n",
    "import os\n",
    "\n",
    "def multiplex_spectra(fileinpaths, mpchannel, **kwargs):\n",
    "    \"\"\"\n",
    "    Seperates the spectra into 'on' and  'off' channels, on being where the multiplexer is reading that spectrometer.\n",
    "    \n",
    "    If the MP channel is not the spectrometer's channel, it will not use that data\n",
    "    \n",
    "    \"\"\"\n",
    "\n",
    "def cut_log_spectra(fileinpaths, times, fileoutpaths_list, **kwargs):\n",
    "    for i, fileinpath in enumerate(fileinpaths):\n",
    "        fileoutpaths = fileoutpaths_list[i]\n",
    "        tdmsfile = TF(fileinpath)\n",
    "        for j, t in enumerate(times):\n",
    "            fileoutpath = fileoutpaths[j]\n",
    "            \n",
    "            direc = os.path.split(fileoutpath)[0]\n",
    "            if not os.path.exists(direc):\n",
    "                os.makedirs(direc)\n",
    "            \n",
    "            root_object = RootObject(properties = {})\n",
    "            \n",
    "            try:\n",
    "                with TdmsWriter(fileoutpath, mode='w') as tdmswriter:\n",
    "                    for group in tdmsfile.groups().remove('Global'):\n",
    "                        idx1, idx2 = _get_indextime(timedate, t[0], t[1])\n",
    "                        for channel in file.group_channels(group)[idx1, idx2]:\n",
    "                            tdms_writer.write_segment([root_object, channel])\n",
    "                    for channel in tdmsfile.group_channels('Global'):\n",
    "                        if channel.channel == 'Wavelength':\n",
    "                            channel_object = channel\n",
    "                        else:\n",
    "                            channel_object = _cut_channel(channel,time[0],time[1],timedata=None)\n",
    "                        tdms_writer.write_segment([\n",
    "                            root_object,\n",
    "                            channel_object\n",
    "                        ])\n",
    "            except ValueError as error:\n",
    "                print(error)\n",
    "                print('removing the file at: \\n', fileoutpath)\n",
    "                os.remove(fileoutpath)\n",
    "        \n"
   ]
  },
  {
   "cell_type": "code",
   "execution_count": 14,
   "metadata": {},
   "outputs": [],
   "source": [
    "import numpy as np"
   ]
  },
  {
   "cell_type": "code",
   "execution_count": 6,
   "metadata": {},
   "outputs": [],
   "source": [
    "file = TF('Z:\\\\Data\\\\Raw Data\\\\2018-11-20\\\\Logfiles\\\\Flame\\\\Log_Flame_0.tdms')"
   ]
  },
  {
   "cell_type": "code",
   "execution_count": 21,
   "metadata": {},
   "outputs": [],
   "source": [
    "t1 = file.object('Global', 'Time').data[100]\n",
    "t2 = file.object('Global', 'Time').data[600]"
   ]
  },
  {
   "cell_type": "code",
   "execution_count": 24,
   "metadata": {},
   "outputs": [],
   "source": [
    "pin = 'Z:\\\\Data\\\\Raw Data\\\\2018-11-20\\\\Logfiles\\\\Flame\\\\Log_Flame_0.tdms'\n",
    "pout = 'Cut_0_Log_Flame_0'"
   ]
  },
  {
   "cell_type": "code",
   "execution_count": 25,
   "metadata": {},
   "outputs": [
    {
     "ename": "FileNotFoundError",
     "evalue": "[WinError 3] The system cannot find the path specified: ''",
     "output_type": "error",
     "traceback": [
      "\u001b[1;31m---------------------------------------------------------------------------\u001b[0m",
      "\u001b[1;31mFileNotFoundError\u001b[0m                         Traceback (most recent call last)",
      "\u001b[1;32m<ipython-input-25-fe8018701336>\u001b[0m in \u001b[0;36m<module>\u001b[1;34m()\u001b[0m\n\u001b[1;32m----> 1\u001b[1;33m \u001b[0mcut_log_spectra\u001b[0m\u001b[1;33m(\u001b[0m\u001b[1;33m[\u001b[0m\u001b[0mpin\u001b[0m\u001b[1;33m]\u001b[0m\u001b[1;33m,\u001b[0m\u001b[1;33m[\u001b[0m\u001b[1;33m(\u001b[0m\u001b[0mt1\u001b[0m\u001b[1;33m,\u001b[0m\u001b[0mt2\u001b[0m\u001b[1;33m)\u001b[0m\u001b[1;33m]\u001b[0m\u001b[1;33m,\u001b[0m \u001b[1;33m[\u001b[0m\u001b[0mpout\u001b[0m\u001b[1;33m]\u001b[0m\u001b[1;33m)\u001b[0m\u001b[1;33m\u001b[0m\u001b[0m\n\u001b[0m",
      "\u001b[1;32m<ipython-input-13-7a42719a293a>\u001b[0m in \u001b[0;36mcut_log_spectra\u001b[1;34m(fileinpaths, times, fileoutpaths_list, **kwargs)\u001b[0m\n\u001b[0;32m     22\u001b[0m             \u001b[0mdirec\u001b[0m \u001b[1;33m=\u001b[0m \u001b[0mos\u001b[0m\u001b[1;33m.\u001b[0m\u001b[0mpath\u001b[0m\u001b[1;33m.\u001b[0m\u001b[0msplit\u001b[0m\u001b[1;33m(\u001b[0m\u001b[0mfileoutpath\u001b[0m\u001b[1;33m)\u001b[0m\u001b[1;33m[\u001b[0m\u001b[1;36m0\u001b[0m\u001b[1;33m]\u001b[0m\u001b[1;33m\u001b[0m\u001b[0m\n\u001b[0;32m     23\u001b[0m             \u001b[1;32mif\u001b[0m \u001b[1;32mnot\u001b[0m \u001b[0mos\u001b[0m\u001b[1;33m.\u001b[0m\u001b[0mpath\u001b[0m\u001b[1;33m.\u001b[0m\u001b[0mexists\u001b[0m\u001b[1;33m(\u001b[0m\u001b[0mdirec\u001b[0m\u001b[1;33m)\u001b[0m\u001b[1;33m:\u001b[0m\u001b[1;33m\u001b[0m\u001b[0m\n\u001b[1;32m---> 24\u001b[1;33m                 \u001b[0mos\u001b[0m\u001b[1;33m.\u001b[0m\u001b[0mmakedirs\u001b[0m\u001b[1;33m(\u001b[0m\u001b[0mdirec\u001b[0m\u001b[1;33m)\u001b[0m\u001b[1;33m\u001b[0m\u001b[0m\n\u001b[0m\u001b[0;32m     25\u001b[0m \u001b[1;33m\u001b[0m\u001b[0m\n\u001b[0;32m     26\u001b[0m             \u001b[0mroot_object\u001b[0m \u001b[1;33m=\u001b[0m \u001b[0mRootObject\u001b[0m\u001b[1;33m(\u001b[0m\u001b[0mproperties\u001b[0m \u001b[1;33m=\u001b[0m \u001b[1;33m{\u001b[0m\u001b[1;33m}\u001b[0m\u001b[1;33m)\u001b[0m\u001b[1;33m\u001b[0m\u001b[0m\n",
      "\u001b[1;32m~\\AppData\\Local\\Continuum\\anaconda3\\lib\\os.py\u001b[0m in \u001b[0;36mmakedirs\u001b[1;34m(name, mode, exist_ok)\u001b[0m\n\u001b[0;32m    219\u001b[0m             \u001b[1;32mreturn\u001b[0m\u001b[1;33m\u001b[0m\u001b[0m\n\u001b[0;32m    220\u001b[0m     \u001b[1;32mtry\u001b[0m\u001b[1;33m:\u001b[0m\u001b[1;33m\u001b[0m\u001b[0m\n\u001b[1;32m--> 221\u001b[1;33m         \u001b[0mmkdir\u001b[0m\u001b[1;33m(\u001b[0m\u001b[0mname\u001b[0m\u001b[1;33m,\u001b[0m \u001b[0mmode\u001b[0m\u001b[1;33m)\u001b[0m\u001b[1;33m\u001b[0m\u001b[0m\n\u001b[0m\u001b[0;32m    222\u001b[0m     \u001b[1;32mexcept\u001b[0m \u001b[0mOSError\u001b[0m\u001b[1;33m:\u001b[0m\u001b[1;33m\u001b[0m\u001b[0m\n\u001b[0;32m    223\u001b[0m         \u001b[1;31m# Cannot rely on checking for EEXIST, since the operating system\u001b[0m\u001b[1;33m\u001b[0m\u001b[1;33m\u001b[0m\u001b[0m\n",
      "\u001b[1;31mFileNotFoundError\u001b[0m: [WinError 3] The system cannot find the path specified: ''"
     ]
    }
   ],
   "source": [
    "cut_log_spectra([pin],[(t1,t2)], [pout])"
   ]
  },
  {
   "cell_type": "code",
   "execution_count": 26,
   "metadata": {},
   "outputs": [],
   "source": [
    "import OceanOptics"
   ]
  },
  {
   "cell_type": "code",
   "execution_count": 11,
   "metadata": {},
   "outputs": [
    {
     "ename": "Exception",
     "evalue": "Data must be 1-dimensional",
     "output_type": "error",
     "traceback": [
      "\u001b[1;31m---------------------------------------------------------------------------\u001b[0m",
      "\u001b[1;31mException\u001b[0m                                 Traceback (most recent call last)",
      "\u001b[1;32m<ipython-input-11-ab6997469235>\u001b[0m in \u001b[0;36m<module>\u001b[1;34m()\u001b[0m\n\u001b[1;32m----> 1\u001b[1;33m \u001b[0ma\u001b[0m \u001b[1;33m=\u001b[0m \u001b[0mfile\u001b[0m\u001b[1;33m.\u001b[0m\u001b[0mobject\u001b[0m\u001b[1;33m(\u001b[0m\u001b[1;34m'Vis_Raw'\u001b[0m\u001b[1;33m)\u001b[0m\u001b[1;33m.\u001b[0m\u001b[0mas_dataframe\u001b[0m\u001b[1;33m(\u001b[0m\u001b[1;33m)\u001b[0m\u001b[1;33m\u001b[0m\u001b[0m\n\u001b[0m",
      "\u001b[1;32m~\\AppData\\Local\\Continuum\\anaconda3\\lib\\site-packages\\nptdms\\tdms.py\u001b[0m in \u001b[0;36mas_dataframe\u001b[1;34m(self, absolute_time)\u001b[0m\n\u001b[0;32m    770\u001b[0m             return pd.DataFrame.from_items(\n\u001b[0;32m    771\u001b[0m                 [(ch.channel, pd.Series(ch.data))\n\u001b[1;32m--> 772\u001b[1;33m                     for ch in self.tdms_file.group_channels(self.group)])\n\u001b[0m\u001b[0;32m    773\u001b[0m         \u001b[1;32melse\u001b[0m\u001b[1;33m:\u001b[0m\u001b[1;33m\u001b[0m\u001b[0m\n\u001b[0;32m    774\u001b[0m             \u001b[1;32mreturn\u001b[0m \u001b[0mpd\u001b[0m\u001b[1;33m.\u001b[0m\u001b[0mDataFrame\u001b[0m\u001b[1;33m(\u001b[0m\u001b[0mself\u001b[0m\u001b[1;33m.\u001b[0m\u001b[0m_data\u001b[0m\u001b[1;33m,\u001b[0m \u001b[0mindex\u001b[0m\u001b[1;33m=\u001b[0m\u001b[0mtime\u001b[0m\u001b[1;33m,\u001b[0m \u001b[0mcolumns\u001b[0m\u001b[1;33m=\u001b[0m\u001b[1;33m[\u001b[0m\u001b[0mself\u001b[0m\u001b[1;33m.\u001b[0m\u001b[0mpath\u001b[0m\u001b[1;33m]\u001b[0m\u001b[1;33m)\u001b[0m\u001b[1;33m\u001b[0m\u001b[0m\n",
      "\u001b[1;32m~\\AppData\\Local\\Continuum\\anaconda3\\lib\\site-packages\\nptdms\\tdms.py\u001b[0m in \u001b[0;36m<listcomp>\u001b[1;34m(.0)\u001b[0m\n\u001b[0;32m    770\u001b[0m             return pd.DataFrame.from_items(\n\u001b[0;32m    771\u001b[0m                 [(ch.channel, pd.Series(ch.data))\n\u001b[1;32m--> 772\u001b[1;33m                     for ch in self.tdms_file.group_channels(self.group)])\n\u001b[0m\u001b[0;32m    773\u001b[0m         \u001b[1;32melse\u001b[0m\u001b[1;33m:\u001b[0m\u001b[1;33m\u001b[0m\u001b[0m\n\u001b[0;32m    774\u001b[0m             \u001b[1;32mreturn\u001b[0m \u001b[0mpd\u001b[0m\u001b[1;33m.\u001b[0m\u001b[0mDataFrame\u001b[0m\u001b[1;33m(\u001b[0m\u001b[0mself\u001b[0m\u001b[1;33m.\u001b[0m\u001b[0m_data\u001b[0m\u001b[1;33m,\u001b[0m \u001b[0mindex\u001b[0m\u001b[1;33m=\u001b[0m\u001b[0mtime\u001b[0m\u001b[1;33m,\u001b[0m \u001b[0mcolumns\u001b[0m\u001b[1;33m=\u001b[0m\u001b[1;33m[\u001b[0m\u001b[0mself\u001b[0m\u001b[1;33m.\u001b[0m\u001b[0mpath\u001b[0m\u001b[1;33m]\u001b[0m\u001b[1;33m)\u001b[0m\u001b[1;33m\u001b[0m\u001b[0m\n",
      "\u001b[1;32m~\\AppData\\Local\\Continuum\\anaconda3\\lib\\site-packages\\pandas\\core\\series.py\u001b[0m in \u001b[0;36m__init__\u001b[1;34m(self, data, index, dtype, name, copy, fastpath)\u001b[0m\n\u001b[0;32m    273\u001b[0m             \u001b[1;32melse\u001b[0m\u001b[1;33m:\u001b[0m\u001b[1;33m\u001b[0m\u001b[0m\n\u001b[0;32m    274\u001b[0m                 data = _sanitize_array(data, index, dtype, copy,\n\u001b[1;32m--> 275\u001b[1;33m                                        raise_cast_failure=True)\n\u001b[0m\u001b[0;32m    276\u001b[0m \u001b[1;33m\u001b[0m\u001b[0m\n\u001b[0;32m    277\u001b[0m                 \u001b[0mdata\u001b[0m \u001b[1;33m=\u001b[0m \u001b[0mSingleBlockManager\u001b[0m\u001b[1;33m(\u001b[0m\u001b[0mdata\u001b[0m\u001b[1;33m,\u001b[0m \u001b[0mindex\u001b[0m\u001b[1;33m,\u001b[0m \u001b[0mfastpath\u001b[0m\u001b[1;33m=\u001b[0m\u001b[1;32mTrue\u001b[0m\u001b[1;33m)\u001b[0m\u001b[1;33m\u001b[0m\u001b[0m\n",
      "\u001b[1;32m~\\AppData\\Local\\Continuum\\anaconda3\\lib\\site-packages\\pandas\\core\\series.py\u001b[0m in \u001b[0;36m_sanitize_array\u001b[1;34m(data, index, dtype, copy, raise_cast_failure)\u001b[0m\n\u001b[0;32m   4163\u001b[0m     \u001b[1;32melif\u001b[0m \u001b[0msubarr\u001b[0m\u001b[1;33m.\u001b[0m\u001b[0mndim\u001b[0m \u001b[1;33m>\u001b[0m \u001b[1;36m1\u001b[0m\u001b[1;33m:\u001b[0m\u001b[1;33m\u001b[0m\u001b[0m\n\u001b[0;32m   4164\u001b[0m         \u001b[1;32mif\u001b[0m \u001b[0misinstance\u001b[0m\u001b[1;33m(\u001b[0m\u001b[0mdata\u001b[0m\u001b[1;33m,\u001b[0m \u001b[0mnp\u001b[0m\u001b[1;33m.\u001b[0m\u001b[0mndarray\u001b[0m\u001b[1;33m)\u001b[0m\u001b[1;33m:\u001b[0m\u001b[1;33m\u001b[0m\u001b[0m\n\u001b[1;32m-> 4165\u001b[1;33m             \u001b[1;32mraise\u001b[0m \u001b[0mException\u001b[0m\u001b[1;33m(\u001b[0m\u001b[1;34m'Data must be 1-dimensional'\u001b[0m\u001b[1;33m)\u001b[0m\u001b[1;33m\u001b[0m\u001b[0m\n\u001b[0m\u001b[0;32m   4166\u001b[0m         \u001b[1;32melse\u001b[0m\u001b[1;33m:\u001b[0m\u001b[1;33m\u001b[0m\u001b[0m\n\u001b[0;32m   4167\u001b[0m             \u001b[0msubarr\u001b[0m \u001b[1;33m=\u001b[0m \u001b[0mcom\u001b[0m\u001b[1;33m.\u001b[0m\u001b[0m_asarray_tuplesafe\u001b[0m\u001b[1;33m(\u001b[0m\u001b[0mdata\u001b[0m\u001b[1;33m,\u001b[0m \u001b[0mdtype\u001b[0m\u001b[1;33m=\u001b[0m\u001b[0mdtype\u001b[0m\u001b[1;33m)\u001b[0m\u001b[1;33m\u001b[0m\u001b[0m\n",
      "\u001b[1;31mException\u001b[0m: Data must be 1-dimensional"
     ]
    }
   ],
   "source": []
  },
  {
   "cell_type": "code",
   "execution_count": 58,
   "metadata": {},
   "outputs": [
    {
     "data": {
      "text/plain": [
       "array([37], dtype=int64)"
      ]
     },
     "execution_count": 58,
     "metadata": {},
     "output_type": "execute_result"
    }
   ],
   "source": [
    "idx1"
   ]
  },
  {
   "cell_type": "code",
   "execution_count": 48,
   "metadata": {},
   "outputs": [
    {
     "data": {
      "text/plain": [
       "list"
      ]
     },
     "execution_count": 48,
     "metadata": {},
     "output_type": "execute_result"
    }
   ],
   "source": [
    "type(time)"
   ]
  },
  {
   "cell_type": "code",
   "execution_count": 69,
   "metadata": {},
   "outputs": [
    {
     "data": {
      "text/plain": [
       "[<TdmsObject with path /'Vis_Raw'/'Acquisition_37'>,\n",
       " <TdmsObject with path /'Vis_Raw'/'Acquisition_38'>,\n",
       " <TdmsObject with path /'Vis_Raw'/'Acquisition_39'>,\n",
       " <TdmsObject with path /'Vis_Raw'/'Acquisition_40'>,\n",
       " <TdmsObject with path /'Vis_Raw'/'Acquisition_41'>,\n",
       " <TdmsObject with path /'Vis_Raw'/'Acquisition_42'>,\n",
       " <TdmsObject with path /'Vis_Raw'/'Acquisition_43'>,\n",
       " <TdmsObject with path /'Vis_Raw'/'Acquisition_44'>,\n",
       " <TdmsObject with path /'Vis_Raw'/'Acquisition_45'>,\n",
       " <TdmsObject with path /'Vis_Raw'/'Acquisition_46'>,\n",
       " <TdmsObject with path /'Vis_Raw'/'Acquisition_47'>,\n",
       " <TdmsObject with path /'Vis_Raw'/'Acquisition_48'>,\n",
       " <TdmsObject with path /'Vis_Raw'/'Acquisition_49'>,\n",
       " <TdmsObject with path /'Vis_Raw'/'Acquisition_50'>,\n",
       " <TdmsObject with path /'Vis_Raw'/'Acquisition_51'>,\n",
       " <TdmsObject with path /'Vis_Raw'/'Acquisition_52'>,\n",
       " <TdmsObject with path /'Vis_Raw'/'Acquisition_53'>,\n",
       " <TdmsObject with path /'Vis_Raw'/'Acquisition_54'>,\n",
       " <TdmsObject with path /'Vis_Raw'/'Acquisition_55'>,\n",
       " <TdmsObject with path /'Vis_Raw'/'Acquisition_56'>,\n",
       " <TdmsObject with path /'Vis_Raw'/'Acquisition_57'>,\n",
       " <TdmsObject with path /'Vis_Raw'/'Acquisition_58'>,\n",
       " <TdmsObject with path /'Vis_Raw'/'Acquisition_59'>,\n",
       " <TdmsObject with path /'Vis_Raw'/'Acquisition_60'>,\n",
       " <TdmsObject with path /'Vis_Raw'/'Acquisition_61'>,\n",
       " <TdmsObject with path /'Vis_Raw'/'Acquisition_62'>,\n",
       " <TdmsObject with path /'Vis_Raw'/'Acquisition_63'>,\n",
       " <TdmsObject with path /'Vis_Raw'/'Acquisition_64'>,\n",
       " <TdmsObject with path /'Vis_Raw'/'Acquisition_65'>,\n",
       " <TdmsObject with path /'Vis_Raw'/'Acquisition_66'>,\n",
       " <TdmsObject with path /'Vis_Raw'/'Acquisition_67'>,\n",
       " <TdmsObject with path /'Vis_Raw'/'Acquisition_68'>,\n",
       " <TdmsObject with path /'Vis_Raw'/'Acquisition_69'>,\n",
       " <TdmsObject with path /'Vis_Raw'/'Acquisition_70'>,\n",
       " <TdmsObject with path /'Vis_Raw'/'Acquisition_71'>,\n",
       " <TdmsObject with path /'Vis_Raw'/'Acquisition_72'>,\n",
       " <TdmsObject with path /'Vis_Raw'/'Acquisition_73'>,\n",
       " <TdmsObject with path /'Vis_Raw'/'Acquisition_74'>,\n",
       " <TdmsObject with path /'Vis_Raw'/'Acquisition_75'>,\n",
       " <TdmsObject with path /'Vis_Raw'/'Acquisition_76'>,\n",
       " <TdmsObject with path /'Vis_Raw'/'Acquisition_77'>,\n",
       " <TdmsObject with path /'Vis_Raw'/'Acquisition_78'>,\n",
       " <TdmsObject with path /'Vis_Raw'/'Acquisition_79'>,\n",
       " <TdmsObject with path /'Vis_Raw'/'Acquisition_80'>,\n",
       " <TdmsObject with path /'Vis_Raw'/'Acquisition_81'>,\n",
       " <TdmsObject with path /'Vis_Raw'/'Acquisition_82'>,\n",
       " <TdmsObject with path /'Vis_Raw'/'Acquisition_83'>,\n",
       " <TdmsObject with path /'Vis_Raw'/'Acquisition_84'>,\n",
       " <TdmsObject with path /'Vis_Raw'/'Acquisition_85'>,\n",
       " <TdmsObject with path /'Vis_Raw'/'Acquisition_86'>,\n",
       " <TdmsObject with path /'Vis_Raw'/'Acquisition_87'>,\n",
       " <TdmsObject with path /'Vis_Raw'/'Acquisition_88'>]"
      ]
     },
     "execution_count": 69,
     "metadata": {},
     "output_type": "execute_result"
    }
   ],
   "source": [
    "file.group_channels(file.groups()[1])[37:89]"
   ]
  },
  {
   "cell_type": "code",
   "execution_count": 64,
   "metadata": {},
   "outputs": [
    {
     "data": {
      "text/plain": [
       "[<TdmsObject with path /'Global'/'Wavelength'>,\n",
       " <TdmsObject with path /'Global'/'Time'>,\n",
       " <TdmsObject with path /'Global'/'MP Pos'>]"
      ]
     },
     "execution_count": 64,
     "metadata": {},
     "output_type": "execute_result"
    }
   ],
   "source": [
    "file.group_channels(group)"
   ]
  },
  {
   "cell_type": "code",
   "execution_count": null,
   "metadata": {},
   "outputs": [],
   "source": []
  }
 ],
 "metadata": {
  "kernelspec": {
   "display_name": "Python 3",
   "language": "python",
   "name": "python3"
  },
  "language_info": {
   "codemirror_mode": {
    "name": "ipython",
    "version": 3
   },
   "file_extension": ".py",
   "mimetype": "text/x-python",
   "name": "python",
   "nbconvert_exporter": "python",
   "pygments_lexer": "ipython3",
   "version": "3.7.0"
  }
 },
 "nbformat": 4,
 "nbformat_minor": 2
}
